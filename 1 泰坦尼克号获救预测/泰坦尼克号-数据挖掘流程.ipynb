{
 "cells": [
  {
   "cell_type": "markdown",
   "id": "3df9fa7c",
   "metadata": {},
   "source": [
    "## 泰坦尼克号-数据挖掘案例解读"
   ]
  },
  {
   "cell_type": "markdown",
   "id": "cdfa31cc",
   "metadata": {},
   "source": [
    "### 数据挖掘流程：\n",
    "#### 1. 数据读取\n",
    "\n",
    "- 读取数据，并进行展示\n",
    "- 统计数据各项指标\n",
    "- 明确数据规模与要完成的任务\n",
    "\n",
    "#### 2. 特征理解分析\n",
    "\n",
    "#### 3. 数据清洗与预处理\n",
    "\n",
    "#### 4. "
   ]
  },
  {
   "cell_type": "code",
   "execution_count": null,
   "id": "e31efbb9",
   "metadata": {},
   "outputs": [],
   "source": []
  }
 ],
 "metadata": {
  "kernelspec": {
   "display_name": "Python 3 (ipykernel)",
   "language": "python",
   "name": "python3"
  },
  "language_info": {
   "codemirror_mode": {
    "name": "ipython",
    "version": 3
   },
   "file_extension": ".py",
   "mimetype": "text/x-python",
   "name": "python",
   "nbconvert_exporter": "python",
   "pygments_lexer": "ipython3",
   "version": "3.9.7"
  }
 },
 "nbformat": 4,
 "nbformat_minor": 5
}
